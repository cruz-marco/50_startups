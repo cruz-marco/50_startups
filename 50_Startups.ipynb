{
  "nbformat": 4,
  "nbformat_minor": 0,
  "metadata": {
    "colab": {
      "name": "50_Startups.ipynb",
      "provenance": [],
      "collapsed_sections": [],
      "toc_visible": true,
      "mount_file_id": "1yUI3F7uTGH7vrJLB_wi2X4mBzHXGcAiH",
      "authorship_tag": "ABX9TyNKZAEZF4sqK3iI9RxvkEbI",
      "include_colab_link": true
    },
    "kernelspec": {
      "name": "python3",
      "display_name": "Python 3"
    },
    "language_info": {
      "name": "python"
    }
  },
  "cells": [
    {
      "cell_type": "markdown",
      "metadata": {
        "id": "view-in-github",
        "colab_type": "text"
      },
      "source": [
        "<a href=\"https://colab.research.google.com/github/cruz-marco/50_startups/blob/main/50_Startups.ipynb\" target=\"_parent\"><img src=\"https://colab.research.google.com/assets/colab-badge.svg\" alt=\"Open In Colab\"/></a>"
      ]
    },
    {
      "cell_type": "markdown",
      "source": [
        "# 0.0 Importando bibliotecas."
      ],
      "metadata": {
        "id": "vpSPtxkUDUwz"
      }
    },
    {
      "cell_type": "code",
      "source": [
        "import pandas as pd\n",
        "import numpy as np\n",
        "import matplotlib.pyplot as plt\n",
        "import seaborn as sns\n",
        "from scipy.stats import zscore, kstest\n",
        "from sklearn.model_selection import train_test_split\n",
        "from sklearn.preprocessing import Normalizer\n",
        "from sklearn.metrics import r2_score, mean_absolute_error, mean_squared_error\n",
        "from sklearn.ensemble import GradientBoostingRegressor"
      ],
      "metadata": {
        "id": "j8bjENA9DX_Y"
      },
      "execution_count": 131,
      "outputs": []
    },
    {
      "cell_type": "markdown",
      "source": [
        "# 1.0 Carregando o dataset"
      ],
      "metadata": {
        "id": "U0Zrk3F7DrXF"
      }
    },
    {
      "cell_type": "code",
      "source": [
        "df = pd.read_csv('/content/drive/MyDrive/Datasets/Startups/50_Startups.csv')"
      ],
      "metadata": {
        "id": "CRbLR8YdDnhx"
      },
      "execution_count": 4,
      "outputs": []
    },
    {
      "cell_type": "code",
      "source": [
        "df.head()"
      ],
      "metadata": {
        "colab": {
          "base_uri": "https://localhost:8080/",
          "height": 206
        },
        "id": "Zw-PnwROD50P",
        "outputId": "4b9a3033-0e06-4b92-ccab-4fd564d61395"
      },
      "execution_count": 5,
      "outputs": [
        {
          "output_type": "execute_result",
          "data": {
            "text/plain": [
              "   R&D Spend  Administration  Marketing Spend       State     Profit\n",
              "0  165349.20       136897.80        471784.10    New York  192261.83\n",
              "1  162597.70       151377.59        443898.53  California  191792.06\n",
              "2  153441.51       101145.55        407934.54     Florida  191050.39\n",
              "3  144372.41       118671.85        383199.62    New York  182901.99\n",
              "4  142107.34        91391.77        366168.42     Florida  166187.94"
            ],
            "text/html": [
              "\n",
              "  <div id=\"df-7d0b55db-0f8f-4a5f-b639-ebc27b52f54d\">\n",
              "    <div class=\"colab-df-container\">\n",
              "      <div>\n",
              "<style scoped>\n",
              "    .dataframe tbody tr th:only-of-type {\n",
              "        vertical-align: middle;\n",
              "    }\n",
              "\n",
              "    .dataframe tbody tr th {\n",
              "        vertical-align: top;\n",
              "    }\n",
              "\n",
              "    .dataframe thead th {\n",
              "        text-align: right;\n",
              "    }\n",
              "</style>\n",
              "<table border=\"1\" class=\"dataframe\">\n",
              "  <thead>\n",
              "    <tr style=\"text-align: right;\">\n",
              "      <th></th>\n",
              "      <th>R&amp;D Spend</th>\n",
              "      <th>Administration</th>\n",
              "      <th>Marketing Spend</th>\n",
              "      <th>State</th>\n",
              "      <th>Profit</th>\n",
              "    </tr>\n",
              "  </thead>\n",
              "  <tbody>\n",
              "    <tr>\n",
              "      <th>0</th>\n",
              "      <td>165349.20</td>\n",
              "      <td>136897.80</td>\n",
              "      <td>471784.10</td>\n",
              "      <td>New York</td>\n",
              "      <td>192261.83</td>\n",
              "    </tr>\n",
              "    <tr>\n",
              "      <th>1</th>\n",
              "      <td>162597.70</td>\n",
              "      <td>151377.59</td>\n",
              "      <td>443898.53</td>\n",
              "      <td>California</td>\n",
              "      <td>191792.06</td>\n",
              "    </tr>\n",
              "    <tr>\n",
              "      <th>2</th>\n",
              "      <td>153441.51</td>\n",
              "      <td>101145.55</td>\n",
              "      <td>407934.54</td>\n",
              "      <td>Florida</td>\n",
              "      <td>191050.39</td>\n",
              "    </tr>\n",
              "    <tr>\n",
              "      <th>3</th>\n",
              "      <td>144372.41</td>\n",
              "      <td>118671.85</td>\n",
              "      <td>383199.62</td>\n",
              "      <td>New York</td>\n",
              "      <td>182901.99</td>\n",
              "    </tr>\n",
              "    <tr>\n",
              "      <th>4</th>\n",
              "      <td>142107.34</td>\n",
              "      <td>91391.77</td>\n",
              "      <td>366168.42</td>\n",
              "      <td>Florida</td>\n",
              "      <td>166187.94</td>\n",
              "    </tr>\n",
              "  </tbody>\n",
              "</table>\n",
              "</div>\n",
              "      <button class=\"colab-df-convert\" onclick=\"convertToInteractive('df-7d0b55db-0f8f-4a5f-b639-ebc27b52f54d')\"\n",
              "              title=\"Convert this dataframe to an interactive table.\"\n",
              "              style=\"display:none;\">\n",
              "        \n",
              "  <svg xmlns=\"http://www.w3.org/2000/svg\" height=\"24px\"viewBox=\"0 0 24 24\"\n",
              "       width=\"24px\">\n",
              "    <path d=\"M0 0h24v24H0V0z\" fill=\"none\"/>\n",
              "    <path d=\"M18.56 5.44l.94 2.06.94-2.06 2.06-.94-2.06-.94-.94-2.06-.94 2.06-2.06.94zm-11 1L8.5 8.5l.94-2.06 2.06-.94-2.06-.94L8.5 2.5l-.94 2.06-2.06.94zm10 10l.94 2.06.94-2.06 2.06-.94-2.06-.94-.94-2.06-.94 2.06-2.06.94z\"/><path d=\"M17.41 7.96l-1.37-1.37c-.4-.4-.92-.59-1.43-.59-.52 0-1.04.2-1.43.59L10.3 9.45l-7.72 7.72c-.78.78-.78 2.05 0 2.83L4 21.41c.39.39.9.59 1.41.59.51 0 1.02-.2 1.41-.59l7.78-7.78 2.81-2.81c.8-.78.8-2.07 0-2.86zM5.41 20L4 18.59l7.72-7.72 1.47 1.35L5.41 20z\"/>\n",
              "  </svg>\n",
              "      </button>\n",
              "      \n",
              "  <style>\n",
              "    .colab-df-container {\n",
              "      display:flex;\n",
              "      flex-wrap:wrap;\n",
              "      gap: 12px;\n",
              "    }\n",
              "\n",
              "    .colab-df-convert {\n",
              "      background-color: #E8F0FE;\n",
              "      border: none;\n",
              "      border-radius: 50%;\n",
              "      cursor: pointer;\n",
              "      display: none;\n",
              "      fill: #1967D2;\n",
              "      height: 32px;\n",
              "      padding: 0 0 0 0;\n",
              "      width: 32px;\n",
              "    }\n",
              "\n",
              "    .colab-df-convert:hover {\n",
              "      background-color: #E2EBFA;\n",
              "      box-shadow: 0px 1px 2px rgba(60, 64, 67, 0.3), 0px 1px 3px 1px rgba(60, 64, 67, 0.15);\n",
              "      fill: #174EA6;\n",
              "    }\n",
              "\n",
              "    [theme=dark] .colab-df-convert {\n",
              "      background-color: #3B4455;\n",
              "      fill: #D2E3FC;\n",
              "    }\n",
              "\n",
              "    [theme=dark] .colab-df-convert:hover {\n",
              "      background-color: #434B5C;\n",
              "      box-shadow: 0px 1px 3px 1px rgba(0, 0, 0, 0.15);\n",
              "      filter: drop-shadow(0px 1px 2px rgba(0, 0, 0, 0.3));\n",
              "      fill: #FFFFFF;\n",
              "    }\n",
              "  </style>\n",
              "\n",
              "      <script>\n",
              "        const buttonEl =\n",
              "          document.querySelector('#df-7d0b55db-0f8f-4a5f-b639-ebc27b52f54d button.colab-df-convert');\n",
              "        buttonEl.style.display =\n",
              "          google.colab.kernel.accessAllowed ? 'block' : 'none';\n",
              "\n",
              "        async function convertToInteractive(key) {\n",
              "          const element = document.querySelector('#df-7d0b55db-0f8f-4a5f-b639-ebc27b52f54d');\n",
              "          const dataTable =\n",
              "            await google.colab.kernel.invokeFunction('convertToInteractive',\n",
              "                                                     [key], {});\n",
              "          if (!dataTable) return;\n",
              "\n",
              "          const docLinkHtml = 'Like what you see? Visit the ' +\n",
              "            '<a target=\"_blank\" href=https://colab.research.google.com/notebooks/data_table.ipynb>data table notebook</a>'\n",
              "            + ' to learn more about interactive tables.';\n",
              "          element.innerHTML = '';\n",
              "          dataTable['output_type'] = 'display_data';\n",
              "          await google.colab.output.renderOutput(dataTable, element);\n",
              "          const docLink = document.createElement('div');\n",
              "          docLink.innerHTML = docLinkHtml;\n",
              "          element.appendChild(docLink);\n",
              "        }\n",
              "      </script>\n",
              "    </div>\n",
              "  </div>\n",
              "  "
            ]
          },
          "metadata": {},
          "execution_count": 5
        }
      ]
    },
    {
      "cell_type": "code",
      "source": [
        "df.shape"
      ],
      "metadata": {
        "colab": {
          "base_uri": "https://localhost:8080/"
        },
        "id": "B_ulio8RTJ3i",
        "outputId": "07db9025-6476-4521-a4c1-af6ec6e7a3f1"
      },
      "execution_count": 84,
      "outputs": [
        {
          "output_type": "execute_result",
          "data": {
            "text/plain": [
              "(49, 5)"
            ]
          },
          "metadata": {},
          "execution_count": 84
        }
      ]
    },
    {
      "cell_type": "code",
      "source": [
        "df.info()"
      ],
      "metadata": {
        "colab": {
          "base_uri": "https://localhost:8080/"
        },
        "id": "vCz5s0zRD6wq",
        "outputId": "057e0e98-214d-45c3-e469-9cb68d1b6eb3"
      },
      "execution_count": 8,
      "outputs": [
        {
          "output_type": "stream",
          "name": "stdout",
          "text": [
            "<class 'pandas.core.frame.DataFrame'>\n",
            "RangeIndex: 50 entries, 0 to 49\n",
            "Data columns (total 5 columns):\n",
            " #   Column           Non-Null Count  Dtype  \n",
            "---  ------           --------------  -----  \n",
            " 0   R&D Spend        50 non-null     float64\n",
            " 1   Administration   50 non-null     float64\n",
            " 2   Marketing Spend  50 non-null     float64\n",
            " 3   State            50 non-null     object \n",
            " 4   Profit           50 non-null     float64\n",
            "dtypes: float64(4), object(1)\n",
            "memory usage: 2.1+ KB\n"
          ]
        }
      ]
    },
    {
      "cell_type": "markdown",
      "source": [
        "- Por hora, sem valores nulos."
      ],
      "metadata": {
        "id": "QNhNReEiEVC3"
      }
    },
    {
      "cell_type": "markdown",
      "source": [
        "# 2.0 Análise exploratória dos dados"
      ],
      "metadata": {
        "id": "atIYZtBgEYMt"
      }
    },
    {
      "cell_type": "markdown",
      "source": [
        "## 2.1 Visualizando descrição dos dados numéricos."
      ],
      "metadata": {
        "id": "ld4mmYK_FWpl"
      }
    },
    {
      "cell_type": "code",
      "source": [
        "describe = df.describe(percentiles=[0.1, 0.25, 0.5, 0.75, 0.9, 0.99]).T\n",
        "describe"
      ],
      "metadata": {
        "colab": {
          "base_uri": "https://localhost:8080/",
          "height": 175
        },
        "id": "lsv7pQC0Ec_z",
        "outputId": "c1e15292-4c8b-4dc2-f2c1-9964c7f6cedc"
      },
      "execution_count": 45,
      "outputs": [
        {
          "output_type": "execute_result",
          "data": {
            "text/plain": [
              "                 count         mean            std       min        10%  \\\n",
              "R&D Spend         50.0   73721.6156   45902.256482      0.00  14086.703   \n",
              "Administration    50.0  121344.6396   28017.802755  51283.14  85013.773   \n",
              "Marketing Spend   50.0  211025.0978  122290.310726      0.00  34814.225   \n",
              "Profit            50.0  112012.6392   40306.180338  14681.40  65172.905   \n",
              "\n",
              "                         25%         50%          75%         90%  \\\n",
              "R&D Spend         39936.3700   73051.080  101602.8000  135364.648   \n",
              "Administration   103730.8750  122699.795  144842.1800  153540.042   \n",
              "Marketing Spend  129300.1325  212716.240  299469.0850  363192.066   \n",
              "Profit            90138.9025  107978.190  139765.9775  157910.802   \n",
              "\n",
              "                         99%        max  \n",
              "R&D Spend        164000.9650  165349.20  \n",
              "Administration   170419.2564  182645.56  \n",
              "Marketing Spend  458120.1707  471784.10  \n",
              "Profit           192031.6427  192261.83  "
            ],
            "text/html": [
              "\n",
              "  <div id=\"df-c5f52dca-23df-47af-a560-1de5ecc3df70\">\n",
              "    <div class=\"colab-df-container\">\n",
              "      <div>\n",
              "<style scoped>\n",
              "    .dataframe tbody tr th:only-of-type {\n",
              "        vertical-align: middle;\n",
              "    }\n",
              "\n",
              "    .dataframe tbody tr th {\n",
              "        vertical-align: top;\n",
              "    }\n",
              "\n",
              "    .dataframe thead th {\n",
              "        text-align: right;\n",
              "    }\n",
              "</style>\n",
              "<table border=\"1\" class=\"dataframe\">\n",
              "  <thead>\n",
              "    <tr style=\"text-align: right;\">\n",
              "      <th></th>\n",
              "      <th>count</th>\n",
              "      <th>mean</th>\n",
              "      <th>std</th>\n",
              "      <th>min</th>\n",
              "      <th>10%</th>\n",
              "      <th>25%</th>\n",
              "      <th>50%</th>\n",
              "      <th>75%</th>\n",
              "      <th>90%</th>\n",
              "      <th>99%</th>\n",
              "      <th>max</th>\n",
              "    </tr>\n",
              "  </thead>\n",
              "  <tbody>\n",
              "    <tr>\n",
              "      <th>R&amp;D Spend</th>\n",
              "      <td>50.0</td>\n",
              "      <td>73721.6156</td>\n",
              "      <td>45902.256482</td>\n",
              "      <td>0.00</td>\n",
              "      <td>14086.703</td>\n",
              "      <td>39936.3700</td>\n",
              "      <td>73051.080</td>\n",
              "      <td>101602.8000</td>\n",
              "      <td>135364.648</td>\n",
              "      <td>164000.9650</td>\n",
              "      <td>165349.20</td>\n",
              "    </tr>\n",
              "    <tr>\n",
              "      <th>Administration</th>\n",
              "      <td>50.0</td>\n",
              "      <td>121344.6396</td>\n",
              "      <td>28017.802755</td>\n",
              "      <td>51283.14</td>\n",
              "      <td>85013.773</td>\n",
              "      <td>103730.8750</td>\n",
              "      <td>122699.795</td>\n",
              "      <td>144842.1800</td>\n",
              "      <td>153540.042</td>\n",
              "      <td>170419.2564</td>\n",
              "      <td>182645.56</td>\n",
              "    </tr>\n",
              "    <tr>\n",
              "      <th>Marketing Spend</th>\n",
              "      <td>50.0</td>\n",
              "      <td>211025.0978</td>\n",
              "      <td>122290.310726</td>\n",
              "      <td>0.00</td>\n",
              "      <td>34814.225</td>\n",
              "      <td>129300.1325</td>\n",
              "      <td>212716.240</td>\n",
              "      <td>299469.0850</td>\n",
              "      <td>363192.066</td>\n",
              "      <td>458120.1707</td>\n",
              "      <td>471784.10</td>\n",
              "    </tr>\n",
              "    <tr>\n",
              "      <th>Profit</th>\n",
              "      <td>50.0</td>\n",
              "      <td>112012.6392</td>\n",
              "      <td>40306.180338</td>\n",
              "      <td>14681.40</td>\n",
              "      <td>65172.905</td>\n",
              "      <td>90138.9025</td>\n",
              "      <td>107978.190</td>\n",
              "      <td>139765.9775</td>\n",
              "      <td>157910.802</td>\n",
              "      <td>192031.6427</td>\n",
              "      <td>192261.83</td>\n",
              "    </tr>\n",
              "  </tbody>\n",
              "</table>\n",
              "</div>\n",
              "      <button class=\"colab-df-convert\" onclick=\"convertToInteractive('df-c5f52dca-23df-47af-a560-1de5ecc3df70')\"\n",
              "              title=\"Convert this dataframe to an interactive table.\"\n",
              "              style=\"display:none;\">\n",
              "        \n",
              "  <svg xmlns=\"http://www.w3.org/2000/svg\" height=\"24px\"viewBox=\"0 0 24 24\"\n",
              "       width=\"24px\">\n",
              "    <path d=\"M0 0h24v24H0V0z\" fill=\"none\"/>\n",
              "    <path d=\"M18.56 5.44l.94 2.06.94-2.06 2.06-.94-2.06-.94-.94-2.06-.94 2.06-2.06.94zm-11 1L8.5 8.5l.94-2.06 2.06-.94-2.06-.94L8.5 2.5l-.94 2.06-2.06.94zm10 10l.94 2.06.94-2.06 2.06-.94-2.06-.94-.94-2.06-.94 2.06-2.06.94z\"/><path d=\"M17.41 7.96l-1.37-1.37c-.4-.4-.92-.59-1.43-.59-.52 0-1.04.2-1.43.59L10.3 9.45l-7.72 7.72c-.78.78-.78 2.05 0 2.83L4 21.41c.39.39.9.59 1.41.59.51 0 1.02-.2 1.41-.59l7.78-7.78 2.81-2.81c.8-.78.8-2.07 0-2.86zM5.41 20L4 18.59l7.72-7.72 1.47 1.35L5.41 20z\"/>\n",
              "  </svg>\n",
              "      </button>\n",
              "      \n",
              "  <style>\n",
              "    .colab-df-container {\n",
              "      display:flex;\n",
              "      flex-wrap:wrap;\n",
              "      gap: 12px;\n",
              "    }\n",
              "\n",
              "    .colab-df-convert {\n",
              "      background-color: #E8F0FE;\n",
              "      border: none;\n",
              "      border-radius: 50%;\n",
              "      cursor: pointer;\n",
              "      display: none;\n",
              "      fill: #1967D2;\n",
              "      height: 32px;\n",
              "      padding: 0 0 0 0;\n",
              "      width: 32px;\n",
              "    }\n",
              "\n",
              "    .colab-df-convert:hover {\n",
              "      background-color: #E2EBFA;\n",
              "      box-shadow: 0px 1px 2px rgba(60, 64, 67, 0.3), 0px 1px 3px 1px rgba(60, 64, 67, 0.15);\n",
              "      fill: #174EA6;\n",
              "    }\n",
              "\n",
              "    [theme=dark] .colab-df-convert {\n",
              "      background-color: #3B4455;\n",
              "      fill: #D2E3FC;\n",
              "    }\n",
              "\n",
              "    [theme=dark] .colab-df-convert:hover {\n",
              "      background-color: #434B5C;\n",
              "      box-shadow: 0px 1px 3px 1px rgba(0, 0, 0, 0.15);\n",
              "      filter: drop-shadow(0px 1px 2px rgba(0, 0, 0, 0.3));\n",
              "      fill: #FFFFFF;\n",
              "    }\n",
              "  </style>\n",
              "\n",
              "      <script>\n",
              "        const buttonEl =\n",
              "          document.querySelector('#df-c5f52dca-23df-47af-a560-1de5ecc3df70 button.colab-df-convert');\n",
              "        buttonEl.style.display =\n",
              "          google.colab.kernel.accessAllowed ? 'block' : 'none';\n",
              "\n",
              "        async function convertToInteractive(key) {\n",
              "          const element = document.querySelector('#df-c5f52dca-23df-47af-a560-1de5ecc3df70');\n",
              "          const dataTable =\n",
              "            await google.colab.kernel.invokeFunction('convertToInteractive',\n",
              "                                                     [key], {});\n",
              "          if (!dataTable) return;\n",
              "\n",
              "          const docLinkHtml = 'Like what you see? Visit the ' +\n",
              "            '<a target=\"_blank\" href=https://colab.research.google.com/notebooks/data_table.ipynb>data table notebook</a>'\n",
              "            + ' to learn more about interactive tables.';\n",
              "          element.innerHTML = '';\n",
              "          dataTable['output_type'] = 'display_data';\n",
              "          await google.colab.output.renderOutput(dataTable, element);\n",
              "          const docLink = document.createElement('div');\n",
              "          docLink.innerHTML = docLinkHtml;\n",
              "          element.appendChild(docLink);\n",
              "        }\n",
              "      </script>\n",
              "    </div>\n",
              "  </div>\n",
              "  "
            ]
          },
          "metadata": {},
          "execution_count": 45
        }
      ]
    },
    {
      "cell_type": "markdown",
      "source": [
        "## 2.2 Visualizando histogramas das variáveis numéricas."
      ],
      "metadata": {
        "id": "ODWbwBXsFeQ7"
      }
    },
    {
      "cell_type": "code",
      "source": [
        "numeric_vars = sorted(tuple(df.select_dtypes(include='number').columns))[::-1]\n",
        "\n",
        "nv_index = len(numeric_vars) - 1 \n",
        "\n",
        "ncols = 2\n",
        "nrows = int(np.ceil(len(numeric_vars)/(1.0 * ncols)))\n",
        "\n",
        "\n",
        "\n",
        "fig, axes = plt.subplots(nrows, ncols, figsize=(12, 9))\n",
        "\n",
        "fig.suptitle('Histogramas das variáveis numéricas', fontsize=20)\n",
        "\n",
        "\n",
        "for lines in axes: #itera nas linhas\n",
        "    for cols in lines: #itera nas colunas dentro das linhas\n",
        "        if nv_index >= 0:  #verifica o indice a ser usado\n",
        "\n",
        "            linha = np.where(axes == lines)[0][0] #pega o index da linha\n",
        "            coluna = np.where(lines == cols)[0][0] #pega o index da coluna\n",
        "\n",
        "            df[numeric_vars[nv_index]].plot.hist(bins=9, \n",
        "            label=numeric_vars[nv_index].replace('_', ' ').title(), \n",
        "            subplots=True, legend=True, ax=axes[linha, coluna])\n",
        "      \n",
        "            nv_index -= 1\n",
        "\n",
        "        else:\n",
        "            plt.axis('off')\n",
        "\n",
        "\n",
        "plt.show()"
      ],
      "metadata": {
        "colab": {
          "base_uri": "https://localhost:8080/",
          "height": 602
        },
        "id": "w9FokoBWEsc4",
        "outputId": "7ab93cd0-58d6-4030-fc52-dd707736e158"
      },
      "execution_count": 11,
      "outputs": [
        {
          "output_type": "display_data",
          "data": {
            "text/plain": [
              "<Figure size 864x648 with 4 Axes>"
            ],
            "image/png": "[encoded data removed]"
          },
          "metadata": {
            "needs_background": "light"
          }
        }
      ]
    },
    {
      "cell_type": "markdown",
      "source": [
        "### 2.2.1 Teste de normalidade"
      ],
      "metadata": {
        "id": "bCiEgrO0REpl"
      }
    },
    {
      "cell_type": "code",
      "source": [
        "nrm_test = list()\n",
        "\n",
        "for var in numeric_vars:\n",
        "    ks, pvalue = kstest(df[var], cdf = 'norm')\n",
        "    nrm_test.append({\n",
        "        'Variavel': var,\n",
        "        'Estatistica KS': ks,\n",
        "        'p-valor': pvalue\n",
        "    })\n",
        "    \n",
        "print(*sorted(nrm_test, key=lambda x: x['Estatistica KS']), sep='\\n')"
      ],
      "metadata": {
        "colab": {
          "base_uri": "https://localhost:8080/"
        },
        "id": "c8pjUNyzREOk",
        "outputId": "66bf8bef-af2f-4370-c94e-c256f264ae9f"
      },
      "execution_count": 82,
      "outputs": [
        {
          "output_type": "stream",
          "name": "stdout",
          "text": [
            "{'Variavel': 'Marketing Spend', 'Estatistica KS': 0.9387755102040817, 'p-valor': 7.250445743039556e-60}\n",
            "{'Variavel': 'R&D Spend', 'Estatistica KS': 0.9795918367346939, 'p-valor': 3.029856599928581e-83}\n",
            "{'Variavel': 'Profit', 'Estatistica KS': 1.0, 'p-valor': 0.0}\n",
            "{'Variavel': 'Administration', 'Estatistica KS': 1.0, 'p-valor': 0.0}\n"
          ]
        }
      ]
    },
    {
      "cell_type": "markdown",
      "source": [
        "- Nenhuma das variáveis apresenta uma distribuição normal."
      ],
      "metadata": {
        "id": "MHOsLP7bFrAU"
      }
    },
    {
      "cell_type": "markdown",
      "source": [
        "## 2.3 Visualizando boxplot das variáveis numéricas."
      ],
      "metadata": {
        "id": "PgH3EE0sFks4"
      }
    },
    {
      "cell_type": "code",
      "source": [
        "nv_index = len(numeric_vars) - 1 \n",
        "\n",
        "ncols = 2\n",
        "nrows = int(np.ceil(len(numeric_vars)/(1.0 * ncols)))\n",
        "\n",
        "fig, axes = plt.subplots(nrows, ncols, figsize=(12, 9))\n",
        "\n",
        "fig.suptitle('Boxplot das variáveis numéricas', fontsize=20)\n",
        "\n",
        "for lines in axes: #itera nas linhas\n",
        "    for cols in lines: #itera nas colunas dentro das linhas\n",
        "        if nv_index >= 0:  #verifica o indice a ser usado\n",
        "            \n",
        "            linha = np.where(axes == lines)[0][0] #pega o index da linha\n",
        "            coluna = np.where(lines == cols)[0][0] #pega o index da coluna\n",
        "\n",
        "            df.boxplot(column=numeric_vars[nv_index], grid=False,\n",
        "            vert=True, showmeans=True, ax=axes[linha, coluna])\n",
        "            \n",
        "            nv_index -= 1\n",
        "        else:\n",
        "            plt.axis('off')\n",
        "\n",
        "plt.show()"
      ],
      "metadata": {
        "colab": {
          "base_uri": "https://localhost:8080/",
          "height": 602
        },
        "id": "y5-twnMuEzAL",
        "outputId": "a98b27db-999d-450e-8b96-4679c000be7a"
      },
      "execution_count": 28,
      "outputs": [
        {
          "output_type": "display_data",
          "data": {
            "text/plain": [
              "<Figure size 864x648 with 4 Axes>"
            ],
            "image/png": "[encoded data removed]"
          },
          "metadata": {
            "needs_background": "light"
          }
        }
      ]
    },
    {
      "cell_type": "markdown",
      "source": [
        "- Temos apenas um outlier na variável profit.\n",
        "- Por ser um trabalho de regressão, parece conveniente eliminá-lo."
      ],
      "metadata": {
        "id": "Bq6os8JeFx8G"
      }
    },
    {
      "cell_type": "code",
      "source": [
        "#Definindo uma função para remover os outliers do dataframe de determinadas\n",
        "#colunas.\n",
        "\n",
        "def outlier_remover(dataframe, columns: list):\n",
        "  desc = dataframe.describe().T\n",
        "\n",
        "  for column in columns:\n",
        "    q1 = desc.loc[column, '25%']\n",
        "    q3 = desc.loc[column, '75%']\n",
        "    bounds = (q1-(1.5*(q3-q1)), q3+(1.5*(q3-q1)))\n",
        "    dataframe = dataframe[(df[column] > bounds[0]) & (df[column] < bounds[1])]\n",
        "  \n",
        "  return dataframe\n",
        "    "
      ],
      "metadata": {
        "id": "d2xtCJ6iF7eQ"
      },
      "execution_count": 88,
      "outputs": []
    },
    {
      "cell_type": "code",
      "source": [
        "df = outlier_remover(df, ['Profit'])\n",
        "df.shape\n",
        "\n",
        "#outliers removidos"
      ],
      "metadata": {
        "colab": {
          "base_uri": "https://localhost:8080/"
        },
        "id": "_u6oS55-GNs-",
        "outputId": "a5e4de6e-30b4-49fd-fc2f-30c9c02d6732"
      },
      "execution_count": 89,
      "outputs": [
        {
          "output_type": "execute_result",
          "data": {
            "text/plain": [
              "(49, 5)"
            ]
          },
          "metadata": {},
          "execution_count": 89
        }
      ]
    },
    {
      "cell_type": "code",
      "source": [
        "fig = plt.figure(figsize=(9,7))\n",
        "\n",
        "df.boxplot(column='Profit', grid=False,\n",
        "            vert=False, showmeans=True)\n",
        "\n",
        "plt.show()"
      ],
      "metadata": {
        "colab": {
          "base_uri": "https://localhost:8080/",
          "height": 428
        },
        "id": "4m721A2dPjwe",
        "outputId": "2307b5c6-261f-419f-e5e8-6b06d4ea2cba"
      },
      "execution_count": 90,
      "outputs": [
        {
          "output_type": "display_data",
          "data": {
            "text/plain": [
              "<Figure size 648x504 with 1 Axes>"
            ],
            "image/png": "[encoded data removed]"
          },
          "metadata": {
            "needs_background": "light"
          }
        }
      ]
    },
    {
      "cell_type": "markdown",
      "source": [
        "## 2.4 Verificando variável categórica."
      ],
      "metadata": {
        "id": "1ORlP-VGRyFD"
      }
    },
    {
      "cell_type": "code",
      "source": [
        "print({\n",
        "    'Coluna': 'State',\n",
        "    'N/A': df['State'].isna().sum(),\n",
        "    'Unique': tuple(df['State'].unique()),\n",
        "    'Uniq-len': len(df['State'].unique())\n",
        "  })"
      ],
      "metadata": {
        "colab": {
          "base_uri": "https://localhost:8080/"
        },
        "id": "XD8RnJY8QJQu",
        "outputId": "21ebe175-79f9-4871-b89b-9fa9632552ca"
      },
      "execution_count": 86,
      "outputs": [
        {
          "output_type": "stream",
          "name": "stdout",
          "text": [
            "{'Coluna': 'State', 'N/A': 0, 'Unique': ('New York', 'California', 'Florida'), 'Uniq-len': 3}\n"
          ]
        }
      ]
    },
    {
      "cell_type": "markdown",
      "source": [
        "- 3 Categorias detectadas."
      ],
      "metadata": {
        "id": "g3T8AEzFSYYm"
      }
    },
    {
      "cell_type": "markdown",
      "source": [
        "# 3.0 Processamento"
      ],
      "metadata": {
        "id": "aa_BDcXpUaSz"
      }
    },
    {
      "cell_type": "markdown",
      "source": [
        "## 3.1 Categórica State"
      ],
      "metadata": {
        "id": "V8RpX1D_XTVS"
      }
    },
    {
      "cell_type": "code",
      "source": [
        "dummyState = pd.get_dummies(df['State'], prefix='st', prefix_sep='_',\n",
        "                            drop_first=True)"
      ],
      "metadata": {
        "id": "8V8ECodzSdMU"
      },
      "execution_count": 99,
      "outputs": []
    },
    {
      "cell_type": "markdown",
      "source": [
        "## 3.2 Juntando variáveis categóricas e numéricas"
      ],
      "metadata": {
        "id": "2nAntLllbXqj"
      }
    },
    {
      "cell_type": "code",
      "source": [
        "df = pd.concat([dummyState, df], axis=1).drop(columns=['State'])"
      ],
      "metadata": {
        "id": "AiBCW9K7bAr4"
      },
      "execution_count": 102,
      "outputs": []
    },
    {
      "cell_type": "code",
      "source": [
        "df.head()"
      ],
      "metadata": {
        "colab": {
          "base_uri": "https://localhost:8080/",
          "height": 206
        },
        "id": "y7F2swwQbBM2",
        "outputId": "92b7adaf-3ec6-48d0-ae2c-0c69d1d481a2"
      },
      "execution_count": 105,
      "outputs": [
        {
          "output_type": "execute_result",
          "data": {
            "text/plain": [
              "   st_Florida  st_New York  R&D Spend  Administration  Marketing Spend  \\\n",
              "0           0            1  165349.20       136897.80        471784.10   \n",
              "1           0            0  162597.70       151377.59        443898.53   \n",
              "2           1            0  153441.51       101145.55        407934.54   \n",
              "3           0            1  144372.41       118671.85        383199.62   \n",
              "4           1            0  142107.34        91391.77        366168.42   \n",
              "\n",
              "      Profit  \n",
              "0  192261.83  \n",
              "1  191792.06  \n",
              "2  191050.39  \n",
              "3  182901.99  \n",
              "4  166187.94  "
            ],
            "text/html": [
              "\n",
              "  <div id=\"df-cb900892-80af-40e6-8580-bc120feed37a\">\n",
              "    <div class=\"colab-df-container\">\n",
              "      <div>\n",
              "<style scoped>\n",
              "    .dataframe tbody tr th:only-of-type {\n",
              "        vertical-align: middle;\n",
              "    }\n",
              "\n",
              "    .dataframe tbody tr th {\n",
              "        vertical-align: top;\n",
              "    }\n",
              "\n",
              "    .dataframe thead th {\n",
              "        text-align: right;\n",
              "    }\n",
              "</style>\n",
              "<table border=\"1\" class=\"dataframe\">\n",
              "  <thead>\n",
              "    <tr style=\"text-align: right;\">\n",
              "      <th></th>\n",
              "      <th>st_Florida</th>\n",
              "      <th>st_New York</th>\n",
              "      <th>R&amp;D Spend</th>\n",
              "      <th>Administration</th>\n",
              "      <th>Marketing Spend</th>\n",
              "      <th>Profit</th>\n",
              "    </tr>\n",
              "  </thead>\n",
              "  <tbody>\n",
              "    <tr>\n",
              "      <th>0</th>\n",
              "      <td>0</td>\n",
              "      <td>1</td>\n",
              "      <td>165349.20</td>\n",
              "      <td>136897.80</td>\n",
              "      <td>471784.10</td>\n",
              "      <td>192261.83</td>\n",
              "    </tr>\n",
              "    <tr>\n",
              "      <th>1</th>\n",
              "      <td>0</td>\n",
              "      <td>0</td>\n",
              "      <td>162597.70</td>\n",
              "      <td>151377.59</td>\n",
              "      <td>443898.53</td>\n",
              "      <td>191792.06</td>\n",
              "    </tr>\n",
              "    <tr>\n",
              "      <th>2</th>\n",
              "      <td>1</td>\n",
              "      <td>0</td>\n",
              "      <td>153441.51</td>\n",
              "      <td>101145.55</td>\n",
              "      <td>407934.54</td>\n",
              "      <td>191050.39</td>\n",
              "    </tr>\n",
              "    <tr>\n",
              "      <th>3</th>\n",
              "      <td>0</td>\n",
              "      <td>1</td>\n",
              "      <td>144372.41</td>\n",
              "      <td>118671.85</td>\n",
              "      <td>383199.62</td>\n",
              "      <td>182901.99</td>\n",
              "    </tr>\n",
              "    <tr>\n",
              "      <th>4</th>\n",
              "      <td>1</td>\n",
              "      <td>0</td>\n",
              "      <td>142107.34</td>\n",
              "      <td>91391.77</td>\n",
              "      <td>366168.42</td>\n",
              "      <td>166187.94</td>\n",
              "    </tr>\n",
              "  </tbody>\n",
              "</table>\n",
              "</div>\n",
              "      <button class=\"colab-df-convert\" onclick=\"convertToInteractive('df-cb900892-80af-40e6-8580-bc120feed37a')\"\n",
              "              title=\"Convert this dataframe to an interactive table.\"\n",
              "              style=\"display:none;\">\n",
              "        \n",
              "  <svg xmlns=\"http://www.w3.org/2000/svg\" height=\"24px\"viewBox=\"0 0 24 24\"\n",
              "       width=\"24px\">\n",
              "    <path d=\"M0 0h24v24H0V0z\" fill=\"none\"/>\n",
              "    <path d=\"M18.56 5.44l.94 2.06.94-2.06 2.06-.94-2.06-.94-.94-2.06-.94 2.06-2.06.94zm-11 1L8.5 8.5l.94-2.06 2.06-.94-2.06-.94L8.5 2.5l-.94 2.06-2.06.94zm10 10l.94 2.06.94-2.06 2.06-.94-2.06-.94-.94-2.06-.94 2.06-2.06.94z\"/><path d=\"M17.41 7.96l-1.37-1.37c-.4-.4-.92-.59-1.43-.59-.52 0-1.04.2-1.43.59L10.3 9.45l-7.72 7.72c-.78.78-.78 2.05 0 2.83L4 21.41c.39.39.9.59 1.41.59.51 0 1.02-.2 1.41-.59l7.78-7.78 2.81-2.81c.8-.78.8-2.07 0-2.86zM5.41 20L4 18.59l7.72-7.72 1.47 1.35L5.41 20z\"/>\n",
              "  </svg>\n",
              "      </button>\n",
              "      \n",
              "  <style>\n",
              "    .colab-df-container {\n",
              "      display:flex;\n",
              "      flex-wrap:wrap;\n",
              "      gap: 12px;\n",
              "    }\n",
              "\n",
              "    .colab-df-convert {\n",
              "      background-color: #E8F0FE;\n",
              "      border: none;\n",
              "      border-radius: 50%;\n",
              "      cursor: pointer;\n",
              "      display: none;\n",
              "      fill: #1967D2;\n",
              "      height: 32px;\n",
              "      padding: 0 0 0 0;\n",
              "      width: 32px;\n",
              "    }\n",
              "\n",
              "    .colab-df-convert:hover {\n",
              "      background-color: #E2EBFA;\n",
              "      box-shadow: 0px 1px 2px rgba(60, 64, 67, 0.3), 0px 1px 3px 1px rgba(60, 64, 67, 0.15);\n",
              "      fill: #174EA6;\n",
              "    }\n",
              "\n",
              "    [theme=dark] .colab-df-convert {\n",
              "      background-color: #3B4455;\n",
              "      fill: #D2E3FC;\n",
              "    }\n",
              "\n",
              "    [theme=dark] .colab-df-convert:hover {\n",
              "      background-color: #434B5C;\n",
              "      box-shadow: 0px 1px 3px 1px rgba(0, 0, 0, 0.15);\n",
              "      filter: drop-shadow(0px 1px 2px rgba(0, 0, 0, 0.3));\n",
              "      fill: #FFFFFF;\n",
              "    }\n",
              "  </style>\n",
              "\n",
              "      <script>\n",
              "        const buttonEl =\n",
              "          document.querySelector('#df-cb900892-80af-40e6-8580-bc120feed37a button.colab-df-convert');\n",
              "        buttonEl.style.display =\n",
              "          google.colab.kernel.accessAllowed ? 'block' : 'none';\n",
              "\n",
              "        async function convertToInteractive(key) {\n",
              "          const element = document.querySelector('#df-cb900892-80af-40e6-8580-bc120feed37a');\n",
              "          const dataTable =\n",
              "            await google.colab.kernel.invokeFunction('convertToInteractive',\n",
              "                                                     [key], {});\n",
              "          if (!dataTable) return;\n",
              "\n",
              "          const docLinkHtml = 'Like what you see? Visit the ' +\n",
              "            '<a target=\"_blank\" href=https://colab.research.google.com/notebooks/data_table.ipynb>data table notebook</a>'\n",
              "            + ' to learn more about interactive tables.';\n",
              "          element.innerHTML = '';\n",
              "          dataTable['output_type'] = 'display_data';\n",
              "          await google.colab.output.renderOutput(dataTable, element);\n",
              "          const docLink = document.createElement('div');\n",
              "          docLink.innerHTML = docLinkHtml;\n",
              "          element.appendChild(docLink);\n",
              "        }\n",
              "      </script>\n",
              "    </div>\n",
              "  </div>\n",
              "  "
            ]
          },
          "metadata": {},
          "execution_count": 105
        }
      ]
    },
    {
      "cell_type": "markdown",
      "source": [
        "## 3.3 Separando variável dependente das independentes"
      ],
      "metadata": {
        "id": "3A1cW1Sgbdtd"
      }
    },
    {
      "cell_type": "code",
      "source": [
        "X = df.drop(columns=['Profit'])\n",
        "y = df['Profit']"
      ],
      "metadata": {
        "id": "gVZyx6gZbT8g"
      },
      "execution_count": 107,
      "outputs": []
    },
    {
      "cell_type": "code",
      "source": [
        "X_train, X_test, y_train, y_test = train_test_split(X, y, test_size=0.2,\n",
        "                                                    random_state=42)"
      ],
      "metadata": {
        "id": "ruJGzzmFb1HE"
      },
      "execution_count": 108,
      "outputs": []
    },
    {
      "cell_type": "code",
      "source": [
        "print(\n",
        "    X_train.shape,\n",
        "    X_test.shape,\n",
        "    y_train.shape,\n",
        "    y_test.shape\n",
        ")"
      ],
      "metadata": {
        "colab": {
          "base_uri": "https://localhost:8080/"
        },
        "id": "A42L22vLcEsB",
        "outputId": "d44bf464-1b38-4d9f-9294-c6d4ca73a73b"
      },
      "execution_count": 109,
      "outputs": [
        {
          "output_type": "stream",
          "name": "stdout",
          "text": [
            "(39, 5) (10, 5) (39,) (10,)\n"
          ]
        }
      ]
    },
    {
      "cell_type": "markdown",
      "source": [
        "## 3.4 Normalizando os datasets"
      ],
      "metadata": {
        "id": "e-xiGW0gccvD"
      }
    },
    {
      "cell_type": "code",
      "source": [
        "normalizer = Normalizer()\n",
        "normalizer.fit(X_train[['R&D Spend',\t'Administration',\t'Marketing Spend']])"
      ],
      "metadata": {
        "colab": {
          "base_uri": "https://localhost:8080/"
        },
        "id": "KXfs_cyFcQ7y",
        "outputId": "caa941da-f631-41b5-aa2b-12be1e595838"
      },
      "execution_count": 243,
      "outputs": [
        {
          "output_type": "execute_result",
          "data": {
            "text/plain": [
              "Normalizer()"
            ]
          },
          "metadata": {},
          "execution_count": 243
        }
      ]
    },
    {
      "cell_type": "code",
      "source": [
        "norm_train_numbers = normalizer.transform(X_train[['R&D Spend', 'Administration', 'Marketing Spend']])\n",
        "norm_test_numbers = normalizer.transform(X_test[['R&D Spend', 'Administration', 'Marketing Spend']])\n",
        "\n",
        "cat_train = np.array(X_train[['st_Florida', 'st_New York']])\n",
        "cat_test = np.array(X_test[['st_Florida', 'st_New York']])\n",
        "\n",
        "X_trainN = np.concatenate((cat_train, norm_train_numbers), axis=1)\n",
        "X_testN = np.concatenate((cat_test, norm_test_numbers), axis=1)"
      ],
      "metadata": {
        "id": "toqbqWM1cqRg"
      },
      "execution_count": 244,
      "outputs": []
    },
    {
      "cell_type": "markdown",
      "source": [
        "#  4.0 Modelagem"
      ],
      "metadata": {
        "id": "B6aUb2KUfvQq"
      }
    },
    {
      "cell_type": "markdown",
      "source": [
        "## 4.1 Treinando o modelo"
      ],
      "metadata": {
        "id": "1Q90jGbcf0cR"
      }
    },
    {
      "cell_type": "code",
      "source": [
        "reg = GradientBoostingRegressor(n_estimators=20, loss='squared_error',\n",
        "                                max_depth=5)"
      ],
      "metadata": {
        "id": "HGwqE52ic6ub"
      },
      "execution_count": 245,
      "outputs": []
    },
    {
      "cell_type": "code",
      "source": [
        "reg.fit(X_trainN, y_train)"
      ],
      "metadata": {
        "colab": {
          "base_uri": "https://localhost:8080/"
        },
        "id": "CYiOA0djgS8d",
        "outputId": "d38ed342-571c-4104-c776-86669781494e"
      },
      "execution_count": 246,
      "outputs": [
        {
          "output_type": "execute_result",
          "data": {
            "text/plain": [
              "GradientBoostingRegressor(max_depth=5, n_estimators=20)"
            ]
          },
          "metadata": {},
          "execution_count": 246
        }
      ]
    },
    {
      "cell_type": "markdown",
      "source": [
        "## 4.2 Aplicando o modelo"
      ],
      "metadata": {
        "id": "ZS8085jkhsz8"
      }
    },
    {
      "cell_type": "code",
      "source": [
        "y_pred = reg.predict(X_testN)"
      ],
      "metadata": {
        "id": "bmyOMir8gYe8"
      },
      "execution_count": 247,
      "outputs": []
    },
    {
      "cell_type": "markdown",
      "source": [
        "## 4.3 Avaliando o modelo"
      ],
      "metadata": {
        "id": "mLZ0bY0ihxGV"
      }
    },
    {
      "cell_type": "code",
      "source": [
        "residual = y_test - y_pred"
      ],
      "metadata": {
        "id": "5NPGvbwKghAO"
      },
      "execution_count": 248,
      "outputs": []
    },
    {
      "cell_type": "code",
      "source": [
        "print(\n",
        "    f'R2: {r2_score(y_test, y_pred)}',\n",
        "    f'RMSE: {np.sqrt(mean_squared_error(y_test, y_pred))}',\n",
        "    f'MAE: {mean_absolute_error(y_test, y_pred)}', sep='\\n'\n",
        ")"
      ],
      "metadata": {
        "colab": {
          "base_uri": "https://localhost:8080/"
        },
        "id": "vKXiiLHDhG6Z",
        "outputId": "a67cc87c-57cd-462d-dab7-ee956092c860"
      },
      "execution_count": 249,
      "outputs": [
        {
          "output_type": "stream",
          "name": "stdout",
          "text": [
            "R2: 0.8056883847351759\n",
            "RMSE: 12556.213264395785\n",
            "MAE: 9943.81929588321\n"
          ]
        }
      ]
    },
    {
      "cell_type": "markdown",
      "source": [
        "## 4.4 Homocedasticidade"
      ],
      "metadata": {
        "id": "tXn-YhT6jcA7"
      }
    },
    {
      "cell_type": "code",
      "source": [
        "fig = plt.figure(figsize=(13,9))\n",
        "\n",
        "sns.scatterplot(x=y_test, y=residual)\n",
        "\n",
        "plt.show()"
      ],
      "metadata": {
        "colab": {
          "base_uri": "https://localhost:8080/",
          "height": 551
        },
        "id": "Q3wuy3b5h0_r",
        "outputId": "28c8bb9f-fdc7-49ac-b77c-b2e789205082"
      },
      "execution_count": 250,
      "outputs": [
        {
          "output_type": "display_data",
          "data": {
            "text/plain": [
              "<Figure size 936x648 with 1 Axes>"
            ],
            "image/png": "[encoded data removed]"
          },
          "metadata": {
            "needs_background": "light"
          }
        }
      ]
    }
  ]
}